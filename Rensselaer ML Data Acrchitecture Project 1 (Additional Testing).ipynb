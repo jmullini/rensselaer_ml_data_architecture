{
 "cells": [
  {
   "cell_type": "code",
   "execution_count": 36,
   "metadata": {},
   "outputs": [],
   "source": [
    "# General data handling/io\n",
    "import datetime\n",
    "import pandas as pd\n",
    "import numpy as np\n",
    "import pickle\n",
    "\n",
    "# Turning off future warnings\n",
    "from warnings import simplefilter\n",
    "simplefilter(action='ignore', category=FutureWarning)"
   ]
  },
  {
   "cell_type": "code",
   "execution_count": 37,
   "metadata": {},
   "outputs": [],
   "source": [
    "def base_data():\n",
    "    \n",
    "    return pd.read_csv('processed_data.csv')"
   ]
  },
  {
   "cell_type": "code",
   "execution_count": 38,
   "metadata": {},
   "outputs": [],
   "source": [
    "def select_features(df):\n",
    "    \n",
    "    features = [f for f in df.columns if f != 'serious_delinquencies_in_past_2_years']\n",
    "    \n",
    "    X = df[features]\n",
    "    Y = df['serious_delinquencies_in_past_2_years'].values\n",
    "    \n",
    "    return X, Y"
   ]
  },
  {
   "cell_type": "code",
   "execution_count": 39,
   "metadata": {},
   "outputs": [],
   "source": [
    "def testing_original_data():\n",
    "    \n",
    "    # Load data\n",
    "    df = base_data()\n",
    "    \n",
    "    # Load Model\n",
    "    loaded_model = pickle.load(open('models/RandomForest.sav','rb'))\n",
    "\n",
    "    # Split out X, Y\n",
    "    X, Y = select_features(df)\n",
    "    \n",
    "    predictions = loaded_model.predict(X)\n",
    "    \n",
    "    print('\\n Confusion Matrix:')\n",
    "    print(confusion_matrix(Y, predictions))\n",
    "        \n",
    "    print('\\n Classification Report')\n",
    "    print(classification_report(Y, predictions))\n",
    "        \n",
    "        "
   ]
  },
  {
   "cell_type": "code",
   "execution_count": 40,
   "metadata": {},
   "outputs": [
    {
     "name": "stdout",
     "output_type": "stream",
     "text": [
      "\n",
      " Confusion Matrix:\n",
      "[[33697   900]\n",
      " [  801  8913]]\n",
      "\n",
      " Classification Report\n",
      "              precision    recall  f1-score   support\n",
      "\n",
      "           0       0.98      0.97      0.98     34597\n",
      "           1       0.91      0.92      0.91      9714\n",
      "\n",
      "    accuracy                           0.96     44311\n",
      "   macro avg       0.94      0.95      0.94     44311\n",
      "weighted avg       0.96      0.96      0.96     44311\n",
      "\n"
     ]
    }
   ],
   "source": [
    "## Results way beyond what you would get in the real world\n",
    "testing_original_data()"
   ]
  }
 ],
 "metadata": {
  "kernelspec": {
   "display_name": "Python 3",
   "language": "python",
   "name": "python3"
  },
  "language_info": {
   "codemirror_mode": {
    "name": "ipython",
    "version": 3
   },
   "file_extension": ".py",
   "mimetype": "text/x-python",
   "name": "python",
   "nbconvert_exporter": "python",
   "pygments_lexer": "ipython3",
   "version": "3.6.7"
  }
 },
 "nbformat": 4,
 "nbformat_minor": 4
}
